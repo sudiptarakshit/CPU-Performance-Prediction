{
 "cells": [
  {
   "cell_type": "markdown",
   "id": "af920ae7",
   "metadata": {},
   "source": [
    "# Problem 1"
   ]
  },
  {
   "cell_type": "code",
   "execution_count": 1,
   "id": "a205b995",
   "metadata": {},
   "outputs": [],
   "source": [
    "#Import the packages\n",
    "import pandas as mypd\n",
    "from sklearn import tree\n",
    "from sklearn.model_selection import cross_val_score\n",
    "from sklearn.model_selection import GridSearchCV\n",
    "import matplotlib.pyplot as myplot\n",
    "from sklearn.model_selection import train_test_split\n",
    "from sklearn.metrics import mean_squared_error\n",
    "import math as mymath\n",
    "import seaborn as mysb\n",
    "from sklearn.ensemble import RandomForestRegressor\n",
    "import random\n",
    "from statsmodels.formula.api import ols\n",
    "from scipy import stats"
   ]
  },
  {
   "cell_type": "code",
   "execution_count": 2,
   "id": "0e3a6210",
   "metadata": {},
   "outputs": [],
   "source": [
    "#Import the dataset\n",
    "mydata = mypd.read_excel('/Users/sudiptarakshit/Desktop/ISI MS QMS/Sem2/MDA/Assignment/Assignment6/CPU_Data.xlsx')"
   ]
  },
  {
   "cell_type": "code",
   "execution_count": 3,
   "id": "280cb169",
   "metadata": {},
   "outputs": [
    {
     "data": {
      "text/html": [
       "<div>\n",
       "<style scoped>\n",
       "    .dataframe tbody tr th:only-of-type {\n",
       "        vertical-align: middle;\n",
       "    }\n",
       "\n",
       "    .dataframe tbody tr th {\n",
       "        vertical-align: top;\n",
       "    }\n",
       "\n",
       "    .dataframe thead th {\n",
       "        text-align: right;\n",
       "    }\n",
       "</style>\n",
       "<table border=\"1\" class=\"dataframe\">\n",
       "  <thead>\n",
       "    <tr style=\"text-align: right;\">\n",
       "      <th></th>\n",
       "      <th>MYCT</th>\n",
       "      <th>MMIN</th>\n",
       "      <th>MMAX</th>\n",
       "      <th>CACH</th>\n",
       "      <th>CHMIN</th>\n",
       "      <th>CHMAX</th>\n",
       "      <th>PRP</th>\n",
       "    </tr>\n",
       "  </thead>\n",
       "  <tbody>\n",
       "    <tr>\n",
       "      <th>0</th>\n",
       "      <td>125</td>\n",
       "      <td>256</td>\n",
       "      <td>6000</td>\n",
       "      <td>256</td>\n",
       "      <td>16</td>\n",
       "      <td>128</td>\n",
       "      <td>198</td>\n",
       "    </tr>\n",
       "    <tr>\n",
       "      <th>1</th>\n",
       "      <td>29</td>\n",
       "      <td>8000</td>\n",
       "      <td>32000</td>\n",
       "      <td>32</td>\n",
       "      <td>8</td>\n",
       "      <td>32</td>\n",
       "      <td>269</td>\n",
       "    </tr>\n",
       "    <tr>\n",
       "      <th>2</th>\n",
       "      <td>29</td>\n",
       "      <td>8000</td>\n",
       "      <td>32000</td>\n",
       "      <td>32</td>\n",
       "      <td>8</td>\n",
       "      <td>32</td>\n",
       "      <td>220</td>\n",
       "    </tr>\n",
       "    <tr>\n",
       "      <th>3</th>\n",
       "      <td>29</td>\n",
       "      <td>8000</td>\n",
       "      <td>32000</td>\n",
       "      <td>32</td>\n",
       "      <td>8</td>\n",
       "      <td>32</td>\n",
       "      <td>172</td>\n",
       "    </tr>\n",
       "    <tr>\n",
       "      <th>4</th>\n",
       "      <td>29</td>\n",
       "      <td>8000</td>\n",
       "      <td>16000</td>\n",
       "      <td>32</td>\n",
       "      <td>8</td>\n",
       "      <td>16</td>\n",
       "      <td>132</td>\n",
       "    </tr>\n",
       "  </tbody>\n",
       "</table>\n",
       "</div>"
      ],
      "text/plain": [
       "   MYCT  MMIN   MMAX  CACH  CHMIN  CHMAX  PRP\n",
       "0   125   256   6000   256     16    128  198\n",
       "1    29  8000  32000    32      8     32  269\n",
       "2    29  8000  32000    32      8     32  220\n",
       "3    29  8000  32000    32      8     32  172\n",
       "4    29  8000  16000    32      8     16  132"
      ]
     },
     "execution_count": 3,
     "metadata": {},
     "output_type": "execute_result"
    }
   ],
   "source": [
    "#Explore the dataset\n",
    "mydata.head()"
   ]
  },
  {
   "cell_type": "code",
   "execution_count": 4,
   "id": "13c984f9",
   "metadata": {},
   "outputs": [
    {
     "name": "stdout",
     "output_type": "stream",
     "text": [
      "<class 'pandas.core.frame.DataFrame'>\n",
      "RangeIndex: 209 entries, 0 to 208\n",
      "Data columns (total 7 columns):\n",
      " #   Column  Non-Null Count  Dtype\n",
      "---  ------  --------------  -----\n",
      " 0   MYCT    209 non-null    int64\n",
      " 1   MMIN    209 non-null    int64\n",
      " 2   MMAX    209 non-null    int64\n",
      " 3   CACH    209 non-null    int64\n",
      " 4   CHMIN   209 non-null    int64\n",
      " 5   CHMAX   209 non-null    int64\n",
      " 6   PRP     209 non-null    int64\n",
      "dtypes: int64(7)\n",
      "memory usage: 11.6 KB\n"
     ]
    }
   ],
   "source": [
    "#Check the dataset\n",
    "mydata.info()"
   ]
  },
  {
   "cell_type": "markdown",
   "id": "6c8c3c45",
   "metadata": {},
   "source": [
    "In the dataset, we have all the continuous variables.\n",
    "We see that Features are MYCT, MMIN, MMAX, CACH, CHMIN, CHMAX\n",
    "Response variable is PRP\n",
    "\n",
    "We see that there is no missing value in the dataset. Also there are total 209 observations in the dataset."
   ]
  },
  {
   "cell_type": "code",
   "execution_count": 5,
   "id": "c4410aa9",
   "metadata": {},
   "outputs": [],
   "source": [
    "#Separate x's and y\n",
    "x = mydata.iloc[:,0:6]\n",
    "y = mydata.iloc[:,6]"
   ]
  },
  {
   "cell_type": "markdown",
   "id": "17e79123",
   "metadata": {},
   "source": [
    "### Split the data randomly into training (80%) and test (20%)"
   ]
  },
  {
   "cell_type": "markdown",
   "id": "845d7989",
   "metadata": {},
   "source": [
    "We initialize the random number generator."
   ]
  },
  {
   "cell_type": "code",
   "execution_count": 6,
   "id": "c72fb280",
   "metadata": {},
   "outputs": [],
   "source": [
    "#Set seed\n",
    "random.seed(100)"
   ]
  },
  {
   "cell_type": "code",
   "execution_count": 7,
   "id": "d4065087",
   "metadata": {},
   "outputs": [],
   "source": [
    "#Split the data into training (80%) and testing (20%)\n",
    "x_train,x_test,y_train,y_test = train_test_split(x,y,test_size=0.2,random_state=100)"
   ]
  },
  {
   "cell_type": "code",
   "execution_count": 8,
   "id": "8f4753ca",
   "metadata": {},
   "outputs": [
    {
     "data": {
      "text/plain": [
       "(MYCT     167\n",
       " MMIN     167\n",
       " MMAX     167\n",
       " CACH     167\n",
       " CHMIN    167\n",
       " CHMAX    167\n",
       " dtype: int64,\n",
       " MYCT     42\n",
       " MMIN     42\n",
       " MMAX     42\n",
       " CACH     42\n",
       " CHMIN    42\n",
       " CHMAX    42\n",
       " dtype: int64)"
      ]
     },
     "execution_count": 8,
     "metadata": {},
     "output_type": "execute_result"
    }
   ],
   "source": [
    "#Check the test/train split\n",
    "x_train.count(), x_test.count()"
   ]
  },
  {
   "cell_type": "markdown",
   "id": "629ddafd",
   "metadata": {},
   "source": [
    "train data has 167 observations & test data has 42 observations."
   ]
  },
  {
   "cell_type": "markdown",
   "id": "52b24303",
   "metadata": {},
   "source": [
    "## Regression Tree Method (CART)"
   ]
  },
  {
   "cell_type": "code",
   "execution_count": 9,
   "id": "931f2cfc",
   "metadata": {},
   "outputs": [],
   "source": [
    "#Specify the default model\n",
    "mymodel =tree.DecisionTreeRegressor(min_samples_split=20)"
   ]
  },
  {
   "cell_type": "code",
   "execution_count": 10,
   "id": "bcdfefbb",
   "metadata": {},
   "outputs": [],
   "source": [
    "#Fit the model to training data\n",
    "mymodel = mymodel.fit(x_train,y_train)"
   ]
  },
  {
   "cell_type": "code",
   "execution_count": 11,
   "id": "be7e7241",
   "metadata": {},
   "outputs": [
    {
     "data": {
      "text/plain": [
       "0.91"
      ]
     },
     "execution_count": 11,
     "metadata": {},
     "output_type": "execute_result"
    }
   ],
   "source": [
    "#Model accuarcy\n",
    "accuracy = mymodel.score(x_train,y_train)\n",
    "round(accuracy,3)"
   ]
  },
  {
   "cell_type": "markdown",
   "id": "66549cfd",
   "metadata": {},
   "source": [
    "There may be an overfitting. We have to do hyper-parameter tuning for a more generalized model."
   ]
  },
  {
   "cell_type": "code",
   "execution_count": 12,
   "id": "612c7e62",
   "metadata": {},
   "outputs": [],
   "source": [
    "#Hyper parameter tuning\n",
    "myparamgrid = [{'min_samples_split':[5,10,15,20,25,30,35]}]"
   ]
  },
  {
   "cell_type": "code",
   "execution_count": 13,
   "id": "a03aa563",
   "metadata": {},
   "outputs": [],
   "source": [
    "# Set up search\n",
    "mysearch = GridSearchCV(estimator=mymodel,param_grid=myparamgrid,scoring='neg_mean_squared_error',cv=5,verbose=True)"
   ]
  },
  {
   "cell_type": "code",
   "execution_count": 14,
   "id": "7a1f7350",
   "metadata": {},
   "outputs": [
    {
     "name": "stdout",
     "output_type": "stream",
     "text": [
      "Fitting 5 folds for each of 7 candidates, totalling 35 fits\n"
     ]
    }
   ],
   "source": [
    "#Fit the search on training data\n",
    "mysearch = mysearch.fit(X=x_train,y=y_train)"
   ]
  },
  {
   "cell_type": "code",
   "execution_count": 15,
   "id": "aeb7fa63",
   "metadata": {},
   "outputs": [
    {
     "data": {
      "text/plain": [
       "{'min_samples_split': 5}"
      ]
     },
     "execution_count": 15,
     "metadata": {},
     "output_type": "execute_result"
    }
   ],
   "source": [
    "# Optimum parameter values\n",
    "mysearch.best_params_"
   ]
  },
  {
   "cell_type": "code",
   "execution_count": 16,
   "id": "3dcc9486",
   "metadata": {},
   "outputs": [],
   "source": [
    "# Specify the optimum model\n",
    "mymodel = tree.DecisionTreeRegressor(min_samples_split=5)"
   ]
  },
  {
   "cell_type": "code",
   "execution_count": 17,
   "id": "47461777",
   "metadata": {},
   "outputs": [],
   "source": [
    "# Fit the model to training data\n",
    "mymodel = mymodel.fit(X=x_train,y=y_train)"
   ]
  },
  {
   "cell_type": "code",
   "execution_count": 18,
   "id": "f9978e53",
   "metadata": {},
   "outputs": [
    {
     "data": {
      "text/plain": [
       "0.9508564048554378"
      ]
     },
     "execution_count": 18,
     "metadata": {},
     "output_type": "execute_result"
    }
   ],
   "source": [
    "# Check the model accuracy: R square\n",
    "rsq = mymodel.score(x_train,y_train)\n",
    "rsq"
   ]
  },
  {
   "cell_type": "markdown",
   "id": "1c91ca96",
   "metadata": {},
   "source": [
    "There is some improvement in model accuracy after hyper parameter optimization, Also, there should be increase in model generalizability."
   ]
  },
  {
   "cell_type": "code",
   "execution_count": 19,
   "id": "7c917409",
   "metadata": {},
   "outputs": [],
   "source": [
    "# Predicted Values\n",
    "predy = mymodel.predict(X=x_train)"
   ]
  },
  {
   "cell_type": "code",
   "execution_count": 20,
   "id": "d32195eb",
   "metadata": {},
   "outputs": [
    {
     "data": {
      "text/plain": [
       "1152.7939121756485"
      ]
     },
     "execution_count": 20,
     "metadata": {},
     "output_type": "execute_result"
    }
   ],
   "source": [
    "#Mean Square Error(MSE) on training data\n",
    "mse = mean_squared_error(y_true=y_train,y_pred=predy)\n",
    "mse"
   ]
  },
  {
   "cell_type": "code",
   "execution_count": 21,
   "id": "1665d835",
   "metadata": {},
   "outputs": [
    {
     "data": {
      "text/plain": [
       "33.952818913540135"
      ]
     },
     "execution_count": 21,
     "metadata": {},
     "output_type": "execute_result"
    }
   ],
   "source": [
    "# Root Mean Square Errorm(RMSE) on training data\n",
    "rmse = mymath.sqrt(mse)\n",
    "rmse"
   ]
  },
  {
   "cell_type": "markdown",
   "id": "ea6e08eb",
   "metadata": {},
   "source": [
    "RMSE value is coming quite high though R<sup>2</sup> value is quite good.\n",
    "\n",
    "This may be due to extreme values present in response variables. We draw box plot of the response variable PRP to validate the claim.\n"
   ]
  },
  {
   "cell_type": "markdown",
   "id": "4396ef26",
   "metadata": {},
   "source": [
    "**PRP**"
   ]
  },
  {
   "cell_type": "code",
   "execution_count": 22,
   "id": "26bb7f43",
   "metadata": {},
   "outputs": [
    {
     "data": {
      "image/png": "[encoded data removed]",
      "text/plain": [
       "<Figure size 432x288 with 1 Axes>"
      ]
     },
     "metadata": {
      "needs_background": "light"
     },
     "output_type": "display_data"
    },
    {
     "data": {
      "image/png": "[encoded data removed]",
      "text/plain": [
       "<Figure size 432x288 with 1 Axes>"
      ]
     },
     "metadata": {
      "needs_background": "light"
     },
     "output_type": "display_data"
    },
    {
     "data": {
      "image/png": "[encoded data removed]",
      "text/plain": [
       "<Figure size 432x288 with 1 Axes>"
      ]
     },
     "metadata": {
      "needs_background": "light"
     },
     "output_type": "display_data"
    }
   ],
   "source": [
    "#Separate the PRP variable\n",
    "PRP = mydata.PRP\n",
    "#Box plot\n",
    "myplot.boxplot(x=PRP)\n",
    "myplot.show()\n",
    "#Histogram\n",
    "myplot.hist(x=PRP,bins=30)\n",
    "myplot.show()\n",
    "#Rug plot & KDE Plot\n",
    "mysb.rugplot(x=PRP)\n",
    "mysb.kdeplot(PRP)\n",
    "myplot.ylim(0,0.01)\n",
    "myplot.show()"
   ]
  },
  {
   "cell_type": "markdown",
   "id": "e3c08ddf",
   "metadata": {},
   "source": [
    "So, though the overall model accuracy is good (95.08 %), we are getting high RMSE as some extreme values are present in the response variable."
   ]
  },
  {
   "cell_type": "markdown",
   "id": "85df6310",
   "metadata": {},
   "source": [
    "**Applying the model on test data**"
   ]
  },
  {
   "cell_type": "code",
   "execution_count": 23,
   "id": "26533622",
   "metadata": {},
   "outputs": [],
   "source": [
    "#Validate the model on test data\n",
    "predtest = mymodel.predict(X=x_test)"
   ]
  },
  {
   "cell_type": "code",
   "execution_count": 24,
   "id": "e35f0564",
   "metadata": {},
   "outputs": [
    {
     "data": {
      "text/plain": [
       "0.8659110232400484"
      ]
     },
     "execution_count": 24,
     "metadata": {},
     "output_type": "execute_result"
    }
   ],
   "source": [
    "#Accuracy of the model on test data - generalizability\n",
    "test_accuracy = mymodel.score(X=x_test,y=y_test)\n",
    "test_accuracy"
   ]
  },
  {
   "cell_type": "markdown",
   "id": "a0ce9f40",
   "metadata": {},
   "source": [
    "There is a drop of R<sup>2</sup> value from 95.08% to 86.59%. It shows model generalizability is not good."
   ]
  },
  {
   "cell_type": "code",
   "execution_count": 25,
   "id": "1f4076b1",
   "metadata": {},
   "outputs": [
    {
     "data": {
      "text/plain": [
       "4669.696428571428"
      ]
     },
     "execution_count": 25,
     "metadata": {},
     "output_type": "execute_result"
    }
   ],
   "source": [
    "#Mean Square Error(MSE) on test data\n",
    "mse_test = mean_squared_error(y_true=y_test,y_pred=predtest)\n",
    "mse_test"
   ]
  },
  {
   "cell_type": "code",
   "execution_count": 26,
   "id": "cc9f71fd",
   "metadata": {},
   "outputs": [
    {
     "data": {
      "text/plain": [
       "68.33517709475427"
      ]
     },
     "execution_count": 26,
     "metadata": {},
     "output_type": "execute_result"
    }
   ],
   "source": [
    "# Root Mean Square Errorm(RMSE) on test data\n",
    "rmse_test = mymath.sqrt(mse_test)\n",
    "rmse_test"
   ]
  },
  {
   "cell_type": "markdown",
   "id": "383cbcc5",
   "metadata": {},
   "source": [
    "We see that RMSE has increased on test data from 33.95 to 58.92. It shows model generalizability is not good."
   ]
  },
  {
   "cell_type": "markdown",
   "id": "4c0b1651",
   "metadata": {},
   "source": [
    "| |Decision Tree Regressor Model(CART) | |\n",
    "| ----------- | ----------- |----------- |\n",
    "| | Train Data |Test Data |\n",
    "| R-sq |95.08|86.59|\n",
    "|MSE |1152.79 |4669.69|\n",
    "|RMSE |33.95|68.33|\n"
   ]
  },
  {
   "cell_type": "markdown",
   "id": "5e09f87e",
   "metadata": {},
   "source": [
    "## Bagging Method"
   ]
  },
  {
   "cell_type": "markdown",
   "id": "073e59c4",
   "metadata": {},
   "source": [
    "Bagging generally uses all the p predictors.\n",
    "\n",
    "`max_features='auto'`"
   ]
  },
  {
   "cell_type": "code",
   "execution_count": 27,
   "id": "0f69fc24",
   "metadata": {},
   "outputs": [],
   "source": [
    "#Specify the bagging model\n",
    "bag_model = RandomForestRegressor(n_estimators=500,min_samples_split=40,max_features='auto')"
   ]
  },
  {
   "cell_type": "code",
   "execution_count": 28,
   "id": "097be718",
   "metadata": {},
   "outputs": [],
   "source": [
    "# Fit the bag model to the data\n",
    "bag_model = bag_model.fit(x_train,y_train)"
   ]
  },
  {
   "cell_type": "code",
   "execution_count": 29,
   "id": "2ddb1b26",
   "metadata": {},
   "outputs": [
    {
     "data": {
      "text/plain": [
       "0.790596078091145"
      ]
     },
     "execution_count": 29,
     "metadata": {},
     "output_type": "execute_result"
    }
   ],
   "source": [
    "#Model accuarcy\n",
    "rsq = bag_model.score(x_train,y_train)\n",
    "rsq"
   ]
  },
  {
   "cell_type": "code",
   "execution_count": 30,
   "id": "891347c6",
   "metadata": {},
   "outputs": [],
   "source": [
    "#Hyper parameter tuning of the bagging model\n",
    "myparamgrid = [{'n_estimators':[100,200,300,400,500,600],'min_samples_split':[5,10,15,20,25,30,35],'criterion':['mse','mae']}]"
   ]
  },
  {
   "cell_type": "code",
   "execution_count": 31,
   "id": "17d33d5a",
   "metadata": {},
   "outputs": [],
   "source": [
    "#Optimum search\n",
    "mysearch = GridSearchCV(estimator=bag_model,param_grid=myparamgrid,scoring='neg_mean_squared_error', cv=5,verbose=True)"
   ]
  },
  {
   "cell_type": "code",
   "execution_count": 32,
   "id": "d88bbac4",
   "metadata": {},
   "outputs": [
    {
     "name": "stdout",
     "output_type": "stream",
     "text": [
      "Fitting 5 folds for each of 84 candidates, totalling 420 fits\n"
     ]
    }
   ],
   "source": [
    "#Fit the search to data\n",
    "mysearch = mysearch.fit(x_train,y_train)"
   ]
  },
  {
   "cell_type": "code",
   "execution_count": 33,
   "id": "520c7010",
   "metadata": {},
   "outputs": [
    {
     "data": {
      "text/plain": [
       "{'criterion': 'mse', 'min_samples_split': 5, 'n_estimators': 100}"
      ]
     },
     "execution_count": 33,
     "metadata": {},
     "output_type": "execute_result"
    }
   ],
   "source": [
    "# optimum parameters of bagging model\n",
    "mysearch.best_params_"
   ]
  },
  {
   "cell_type": "code",
   "execution_count": 34,
   "id": "00b93740",
   "metadata": {},
   "outputs": [],
   "source": [
    "#Specify the optimum bagging model\n",
    "bag_model = RandomForestRegressor(n_estimators=100,min_samples_split=5,max_features='auto')"
   ]
  },
  {
   "cell_type": "code",
   "execution_count": 35,
   "id": "36716970",
   "metadata": {},
   "outputs": [],
   "source": [
    "#Fit bagging model to training data\n",
    "bag_model = bag_model.fit(x_train,y_train)"
   ]
  },
  {
   "cell_type": "code",
   "execution_count": 36,
   "id": "80ab8720",
   "metadata": {},
   "outputs": [
    {
     "data": {
      "text/plain": [
       "0.9526830985746105"
      ]
     },
     "execution_count": 36,
     "metadata": {},
     "output_type": "execute_result"
    }
   ],
   "source": [
    "#Model accuracy\n",
    "rsq = bag_model.score(X=x_train,y=y_train)\n",
    "rsq"
   ]
  },
  {
   "cell_type": "markdown",
   "id": "76cae439",
   "metadata": {},
   "source": [
    "We see that there is very significant improvement in model accuracy after hyperparameter optimization."
   ]
  },
  {
   "cell_type": "code",
   "execution_count": 37,
   "id": "4ec7ea59",
   "metadata": {},
   "outputs": [],
   "source": [
    "#Predict the response\n",
    "predy = bag_model.predict(x_train)"
   ]
  },
  {
   "cell_type": "code",
   "execution_count": 38,
   "id": "c5c174be",
   "metadata": {},
   "outputs": [
    {
     "name": "stdout",
     "output_type": "stream",
     "text": [
      "1109.9439458132504\n",
      "33.31582125377146\n"
     ]
    }
   ],
   "source": [
    "#MSE\n",
    "mse = mean_squared_error(y_true=y_train,y_pred=predy)\n",
    "print(mse)\n",
    "#RMSE\n",
    "rmse = mymath.sqrt(mse)\n",
    "print(rmse)"
   ]
  },
  {
   "cell_type": "markdown",
   "id": "e2b690dd",
   "metadata": {},
   "source": [
    "**Applying the model on test data**"
   ]
  },
  {
   "cell_type": "code",
   "execution_count": 39,
   "id": "bcf7d7e7",
   "metadata": {},
   "outputs": [
    {
     "data": {
      "text/plain": [
       "0.8219424862087524"
      ]
     },
     "execution_count": 39,
     "metadata": {},
     "output_type": "execute_result"
    }
   ],
   "source": [
    "#Accuracy for test data\n",
    "rsq_test = bag_model.score(X=x_test,y=y_test)\n",
    "rsq_test"
   ]
  },
  {
   "cell_type": "markdown",
   "id": "cdbdfe32",
   "metadata": {},
   "source": [
    "Model accuracy has reduced from 95.25% to 84.28% on test data."
   ]
  },
  {
   "cell_type": "code",
   "execution_count": 40,
   "id": "5b3111fb",
   "metadata": {},
   "outputs": [],
   "source": [
    "#Predict for test data\n",
    "predtest = bag_model.predict(x_test)"
   ]
  },
  {
   "cell_type": "code",
   "execution_count": 41,
   "id": "33e3b667",
   "metadata": {},
   "outputs": [
    {
     "name": "stdout",
     "output_type": "stream",
     "text": [
      "6200.916408809775\n",
      "78.74589772686431\n"
     ]
    }
   ],
   "source": [
    "#Test MSE\n",
    "msetest = mean_squared_error(y_true=y_test,y_pred=predtest)\n",
    "print(msetest)\n",
    "#Test RMSE\n",
    "rmsetest = mymath.sqrt(msetest)\n",
    "print(rmsetest)"
   ]
  },
  {
   "cell_type": "markdown",
   "id": "0d4606d9",
   "metadata": {},
   "source": [
    "There is a very significant increase in RMSE value on test data as compared to train data."
   ]
  },
  {
   "cell_type": "markdown",
   "id": "c67e7c75",
   "metadata": {},
   "source": [
    "| |Bagging Model | |\n",
    "| ----------- | ----------- |----------- |\n",
    "| | Train Data |Test Data |\n",
    "| R-sq |95.26|82.19|\n",
    "|MSE |1109.94 |6200.91|\n",
    "|RMSE |33.31 |78.75|\n"
   ]
  },
  {
   "cell_type": "markdown",
   "id": "4c525fb0",
   "metadata": {},
   "source": [
    "## Random Forest Model"
   ]
  },
  {
   "cell_type": "markdown",
   "id": "1eb609c7",
   "metadata": {},
   "source": [
    "Random forest uses sqrt(P) predictors.\n",
    "\n",
    "`max_features='sqrt'`"
   ]
  },
  {
   "cell_type": "code",
   "execution_count": 42,
   "id": "393ab3c5",
   "metadata": {},
   "outputs": [],
   "source": [
    "#Specify the randomforest model\n",
    "rf_model = RandomForestRegressor(n_estimators=500,min_samples_split=40,max_features='sqrt')"
   ]
  },
  {
   "cell_type": "code",
   "execution_count": 43,
   "id": "697fec48",
   "metadata": {},
   "outputs": [],
   "source": [
    "#Fit the model to the data\n",
    "rf_model = rf_model.fit(x_train,y_train)"
   ]
  },
  {
   "cell_type": "code",
   "execution_count": 44,
   "id": "23758f66",
   "metadata": {},
   "outputs": [
    {
     "data": {
      "text/plain": [
       "0.9526830985746105"
      ]
     },
     "execution_count": 44,
     "metadata": {},
     "output_type": "execute_result"
    }
   ],
   "source": [
    "#Model accuarcy\n",
    "rsq = bag_model.score(x_train,y_train)\n",
    "rsq"
   ]
  },
  {
   "cell_type": "code",
   "execution_count": 45,
   "id": "0d30d754",
   "metadata": {},
   "outputs": [],
   "source": [
    "#Hyper parameter Tuning of Random Forest model\n",
    "myparamgrid = [{'n_estimators': [100,200,300,400,500,600],'min_samples_split': [5,10,15,20,25,30,35], 'criterion':['mse','mae']}]"
   ]
  },
  {
   "cell_type": "code",
   "execution_count": 46,
   "id": "7f65e54e",
   "metadata": {},
   "outputs": [],
   "source": [
    "#Set up the search\n",
    "mysearch = GridSearchCV(estimator=rf_model,param_grid=myparamgrid,scoring='neg_mean_squared_error',cv=5,verbose=True)"
   ]
  },
  {
   "cell_type": "code",
   "execution_count": 47,
   "id": "29255add",
   "metadata": {},
   "outputs": [
    {
     "name": "stdout",
     "output_type": "stream",
     "text": [
      "Fitting 5 folds for each of 84 candidates, totalling 420 fits\n"
     ]
    }
   ],
   "source": [
    "#Fit the search to the data\n",
    "mysearch = mysearch.fit(x_train,y_train)"
   ]
  },
  {
   "cell_type": "code",
   "execution_count": 48,
   "id": "b2befb34",
   "metadata": {},
   "outputs": [
    {
     "data": {
      "text/plain": [
       "{'criterion': 'mse', 'min_samples_split': 5, 'n_estimators': 300}"
      ]
     },
     "execution_count": 48,
     "metadata": {},
     "output_type": "execute_result"
    }
   ],
   "source": [
    "#Optimum parameters of the random forest model\n",
    "mysearch.best_params_"
   ]
  },
  {
   "cell_type": "code",
   "execution_count": 49,
   "id": "a543a334",
   "metadata": {},
   "outputs": [],
   "source": [
    "#Specify the optimum random forest model\n",
    "rf_model = RandomForestRegressor(n_estimators=100,min_samples_split=5,max_features='sqrt')"
   ]
  },
  {
   "cell_type": "code",
   "execution_count": 50,
   "id": "af82cd8f",
   "metadata": {},
   "outputs": [],
   "source": [
    "#Fit the model to data\n",
    "rf_model = rf_model.fit(x_train,y_train)"
   ]
  },
  {
   "cell_type": "code",
   "execution_count": 51,
   "id": "3e406c7e",
   "metadata": {},
   "outputs": [
    {
     "name": "stdout",
     "output_type": "stream",
     "text": [
      "0.9540904644195625\n"
     ]
    }
   ],
   "source": [
    "#Model accuracy\n",
    "rsq = rf_model.score(x_train,y_train)\n",
    "print(rsq)"
   ]
  },
  {
   "cell_type": "code",
   "execution_count": 52,
   "id": "e578b2a2",
   "metadata": {},
   "outputs": [],
   "source": [
    "#Predict the response\n",
    "predy = rf_model.predict(X=x_train)"
   ]
  },
  {
   "cell_type": "code",
   "execution_count": 53,
   "id": "10f59f6d",
   "metadata": {},
   "outputs": [
    {
     "name": "stdout",
     "output_type": "stream",
     "text": [
      "1076.9304315701015\n",
      "32.816618222633814\n"
     ]
    }
   ],
   "source": [
    "#Compute MSE\n",
    "mse = mean_squared_error(y_true=y_train,y_pred=predy)\n",
    "print(mse)\n",
    "#Compute RMSE\n",
    "rmse = mymath.sqrt(mse)\n",
    "print(rmse)"
   ]
  },
  {
   "cell_type": "markdown",
   "id": "e93736c9",
   "metadata": {},
   "source": [
    "**Applying the model on test data**"
   ]
  },
  {
   "cell_type": "code",
   "execution_count": 54,
   "id": "0f196aa1",
   "metadata": {},
   "outputs": [
    {
     "data": {
      "text/plain": [
       "0.8289729524404916"
      ]
     },
     "execution_count": 54,
     "metadata": {},
     "output_type": "execute_result"
    }
   ],
   "source": [
    "#Accuracy on test data\n",
    "rsq_test = rf_model.score(x_test,y_test)\n",
    "rsq_test"
   ]
  },
  {
   "cell_type": "code",
   "execution_count": 55,
   "id": "3b7c34a2",
   "metadata": {},
   "outputs": [],
   "source": [
    "# Predict on test data\n",
    "predtest = rf_model.predict(X=x_test)"
   ]
  },
  {
   "cell_type": "code",
   "execution_count": 56,
   "id": "bb90cbda",
   "metadata": {},
   "outputs": [
    {
     "data": {
      "text/plain": [
       "5956.0779153941885"
      ]
     },
     "execution_count": 56,
     "metadata": {},
     "output_type": "execute_result"
    }
   ],
   "source": [
    "#Test MSE\n",
    "msetest = mean_squared_error(y_true=y_test,y_pred=predtest)\n",
    "msetest"
   ]
  },
  {
   "cell_type": "code",
   "execution_count": 57,
   "id": "c2776c43",
   "metadata": {},
   "outputs": [
    {
     "data": {
      "text/plain": [
       "77.17563032067952"
      ]
     },
     "execution_count": 57,
     "metadata": {},
     "output_type": "execute_result"
    }
   ],
   "source": [
    "#Test RMSE\n",
    "rmsetest = mymath.sqrt(msetest)\n",
    "rmsetest"
   ]
  },
  {
   "cell_type": "markdown",
   "id": "cc8505d8",
   "metadata": {},
   "source": [
    "| |Random forest Model | |\n",
    "| ----------- | ----------- |----------- |\n",
    "| | Train Data |Test Data |\n",
    "| R-sq |95.40|82.90|\n",
    "|MSE |1076.93 |5956.08|\n",
    "|RMSE |32.87 |77.17|\n"
   ]
  },
  {
   "cell_type": "markdown",
   "id": "cc8b3f5b",
   "metadata": {},
   "source": [
    "We find that model generalizability is not good."
   ]
  },
  {
   "cell_type": "markdown",
   "id": "960f3491",
   "metadata": {},
   "source": [
    "**We comapare all three models**"
   ]
  },
  {
   "cell_type": "markdown",
   "id": "1d790e09",
   "metadata": {},
   "source": [
    "| |Bagging Model |  |Random Forest| |CART| |\n",
    "| ----------- | ----------- |----------- | ----------- |----------- |----------- |----------- |\n",
    "| | Train Data |Test Data |Train Data |Test Data |Train Data |Test Data |\n",
    "| R-sq |95.08|86.59|95.26|82.19|95.40|82.90|\n",
    "|MSE |1152.79 |4669.69|1109.94 |6200.91|1076.93|5956.08|\n",
    "|RMSE |33.95 |68.335|33.31 |78.75|32.87|77.17|\n"
   ]
  },
  {
   "cell_type": "markdown",
   "id": "7b67652a",
   "metadata": {},
   "source": [
    "## Linear Regression model"
   ]
  },
  {
   "cell_type": "markdown",
   "id": "b43093bf",
   "metadata": {},
   "source": [
    "We will build linear regression model on the dataset. We create train and test dataframes.\n"
   ]
  },
  {
   "cell_type": "code",
   "execution_count": 58,
   "id": "1734ba94",
   "metadata": {},
   "outputs": [],
   "source": [
    "#Train data: Joining x_train & y_train\n",
    "train_data = x_train.join(y_train)\n",
    "#Test data: Joining x_test & y_test\n",
    "test_data = x_test.join(y_test)"
   ]
  },
  {
   "cell_type": "code",
   "execution_count": 59,
   "id": "1eadd3d6",
   "metadata": {},
   "outputs": [
    {
     "data": {
      "text/html": [
       "<div>\n",
       "<style scoped>\n",
       "    .dataframe tbody tr th:only-of-type {\n",
       "        vertical-align: middle;\n",
       "    }\n",
       "\n",
       "    .dataframe tbody tr th {\n",
       "        vertical-align: top;\n",
       "    }\n",
       "\n",
       "    .dataframe thead th {\n",
       "        text-align: right;\n",
       "    }\n",
       "</style>\n",
       "<table border=\"1\" class=\"dataframe\">\n",
       "  <thead>\n",
       "    <tr style=\"text-align: right;\">\n",
       "      <th></th>\n",
       "      <th>MYCT</th>\n",
       "      <th>MMIN</th>\n",
       "      <th>MMAX</th>\n",
       "      <th>CACH</th>\n",
       "      <th>CHMIN</th>\n",
       "      <th>CHMAX</th>\n",
       "      <th>PRP</th>\n",
       "    </tr>\n",
       "  </thead>\n",
       "  <tbody>\n",
       "    <tr>\n",
       "      <th>115</th>\n",
       "      <td>185</td>\n",
       "      <td>2000</td>\n",
       "      <td>16000</td>\n",
       "      <td>16</td>\n",
       "      <td>1</td>\n",
       "      <td>6</td>\n",
       "      <td>76</td>\n",
       "    </tr>\n",
       "    <tr>\n",
       "      <th>85</th>\n",
       "      <td>140</td>\n",
       "      <td>2000</td>\n",
       "      <td>4000</td>\n",
       "      <td>0</td>\n",
       "      <td>3</td>\n",
       "      <td>6</td>\n",
       "      <td>29</td>\n",
       "    </tr>\n",
       "    <tr>\n",
       "      <th>32</th>\n",
       "      <td>50</td>\n",
       "      <td>2620</td>\n",
       "      <td>10480</td>\n",
       "      <td>30</td>\n",
       "      <td>12</td>\n",
       "      <td>24</td>\n",
       "      <td>32</td>\n",
       "    </tr>\n",
       "    <tr>\n",
       "      <th>101</th>\n",
       "      <td>115</td>\n",
       "      <td>512</td>\n",
       "      <td>6000</td>\n",
       "      <td>16</td>\n",
       "      <td>1</td>\n",
       "      <td>6</td>\n",
       "      <td>45</td>\n",
       "    </tr>\n",
       "    <tr>\n",
       "      <th>26</th>\n",
       "      <td>320</td>\n",
       "      <td>256</td>\n",
       "      <td>6000</td>\n",
       "      <td>0</td>\n",
       "      <td>1</td>\n",
       "      <td>6</td>\n",
       "      <td>33</td>\n",
       "    </tr>\n",
       "  </tbody>\n",
       "</table>\n",
       "</div>"
      ],
      "text/plain": [
       "     MYCT  MMIN   MMAX  CACH  CHMIN  CHMAX  PRP\n",
       "115   185  2000  16000    16      1      6   76\n",
       "85    140  2000   4000     0      3      6   29\n",
       "32     50  2620  10480    30     12     24   32\n",
       "101   115   512   6000    16      1      6   45\n",
       "26    320   256   6000     0      1      6   33"
      ]
     },
     "execution_count": 59,
     "metadata": {},
     "output_type": "execute_result"
    }
   ],
   "source": [
    "#Check the train data\n",
    "train_data.head()"
   ]
  },
  {
   "cell_type": "code",
   "execution_count": 60,
   "id": "2503c9f7",
   "metadata": {},
   "outputs": [],
   "source": [
    "#Develop regression model\n",
    "mymodel = ols(formula='PRP~MYCT+MMIN+MMAX+CACH+CHMIN+CHMAX',data = train_data).fit()"
   ]
  },
  {
   "cell_type": "code",
   "execution_count": 61,
   "id": "39a92e73",
   "metadata": {},
   "outputs": [
    {
     "data": {
      "text/html": [
       "<table class=\"simpletable\">\n",
       "<caption>OLS Regression Results</caption>\n",
       "<tr>\n",
       "  <th>Dep. Variable:</th>           <td>PRP</td>       <th>  R-squared:         </th> <td>   0.906</td>\n",
       "</tr>\n",
       "<tr>\n",
       "  <th>Model:</th>                   <td>OLS</td>       <th>  Adj. R-squared:    </th> <td>   0.903</td>\n",
       "</tr>\n",
       "<tr>\n",
       "  <th>Method:</th>             <td>Least Squares</td>  <th>  F-statistic:       </th> <td>   257.7</td>\n",
       "</tr>\n",
       "<tr>\n",
       "  <th>Date:</th>             <td>Mon, 02 May 2022</td> <th>  Prob (F-statistic):</th> <td>1.61e-79</td>\n",
       "</tr>\n",
       "<tr>\n",
       "  <th>Time:</th>                 <td>23:30:20</td>     <th>  Log-Likelihood:    </th> <td> -879.59</td>\n",
       "</tr>\n",
       "<tr>\n",
       "  <th>No. Observations:</th>      <td>   167</td>      <th>  AIC:               </th> <td>   1773.</td>\n",
       "</tr>\n",
       "<tr>\n",
       "  <th>Df Residuals:</th>          <td>   160</td>      <th>  BIC:               </th> <td>   1795.</td>\n",
       "</tr>\n",
       "<tr>\n",
       "  <th>Df Model:</th>              <td>     6</td>      <th>                     </th>     <td> </td>   \n",
       "</tr>\n",
       "<tr>\n",
       "  <th>Covariance Type:</th>      <td>nonrobust</td>    <th>                     </th>     <td> </td>   \n",
       "</tr>\n",
       "</table>\n",
       "<table class=\"simpletable\">\n",
       "<tr>\n",
       "      <td></td>         <th>coef</th>     <th>std err</th>      <th>t</th>      <th>P>|t|</th>  <th>[0.025</th>    <th>0.975]</th>  \n",
       "</tr>\n",
       "<tr>\n",
       "  <th>Intercept</th> <td>  -44.0220</td> <td>    7.289</td> <td>   -6.040</td> <td> 0.000</td> <td>  -58.417</td> <td>  -29.627</td>\n",
       "</tr>\n",
       "<tr>\n",
       "  <th>MYCT</th>      <td>    0.0370</td> <td>    0.016</td> <td>    2.334</td> <td> 0.021</td> <td>    0.006</td> <td>    0.068</td>\n",
       "</tr>\n",
       "<tr>\n",
       "  <th>MMIN</th>      <td>    0.0178</td> <td>    0.002</td> <td>   11.698</td> <td> 0.000</td> <td>    0.015</td> <td>    0.021</td>\n",
       "</tr>\n",
       "<tr>\n",
       "  <th>MMAX</th>      <td>    0.0050</td> <td>    0.001</td> <td>    8.861</td> <td> 0.000</td> <td>    0.004</td> <td>    0.006</td>\n",
       "</tr>\n",
       "<tr>\n",
       "  <th>CACH</th>      <td>    0.3465</td> <td>    0.123</td> <td>    2.822</td> <td> 0.005</td> <td>    0.104</td> <td>    0.589</td>\n",
       "</tr>\n",
       "<tr>\n",
       "  <th>CHMIN</th>     <td>    1.1760</td> <td>    0.741</td> <td>    1.587</td> <td> 0.115</td> <td>   -0.288</td> <td>    2.640</td>\n",
       "</tr>\n",
       "<tr>\n",
       "  <th>CHMAX</th>     <td>    0.9286</td> <td>    0.197</td> <td>    4.714</td> <td> 0.000</td> <td>    0.540</td> <td>    1.318</td>\n",
       "</tr>\n",
       "</table>\n",
       "<table class=\"simpletable\">\n",
       "<tr>\n",
       "  <th>Omnibus:</th>       <td>78.454</td> <th>  Durbin-Watson:     </th> <td>   2.305</td> \n",
       "</tr>\n",
       "<tr>\n",
       "  <th>Prob(Omnibus):</th> <td> 0.000</td> <th>  Jarque-Bera (JB):  </th> <td> 750.707</td> \n",
       "</tr>\n",
       "<tr>\n",
       "  <th>Skew:</th>          <td> 1.426</td> <th>  Prob(JB):          </th> <td>9.69e-164</td>\n",
       "</tr>\n",
       "<tr>\n",
       "  <th>Kurtosis:</th>      <td>12.987</td> <th>  Cond. No.          </th> <td>3.38e+04</td> \n",
       "</tr>\n",
       "</table><br/><br/>Notes:<br/>[1] Standard Errors assume that the covariance matrix of the errors is correctly specified.<br/>[2] The condition number is large, 3.38e+04. This might indicate that there are<br/>strong multicollinearity or other numerical problems."
      ],
      "text/plain": [
       "<class 'statsmodels.iolib.summary.Summary'>\n",
       "\"\"\"\n",
       "                            OLS Regression Results                            \n",
       "==============================================================================\n",
       "Dep. Variable:                    PRP   R-squared:                       0.906\n",
       "Model:                            OLS   Adj. R-squared:                  0.903\n",
       "Method:                 Least Squares   F-statistic:                     257.7\n",
       "Date:                Mon, 02 May 2022   Prob (F-statistic):           1.61e-79\n",
       "Time:                        23:30:20   Log-Likelihood:                -879.59\n",
       "No. Observations:                 167   AIC:                             1773.\n",
       "Df Residuals:                     160   BIC:                             1795.\n",
       "Df Model:                           6                                         \n",
       "Covariance Type:            nonrobust                                         \n",
       "==============================================================================\n",
       "                 coef    std err          t      P>|t|      [0.025      0.975]\n",
       "------------------------------------------------------------------------------\n",
       "Intercept    -44.0220      7.289     -6.040      0.000     -58.417     -29.627\n",
       "MYCT           0.0370      0.016      2.334      0.021       0.006       0.068\n",
       "MMIN           0.0178      0.002     11.698      0.000       0.015       0.021\n",
       "MMAX           0.0050      0.001      8.861      0.000       0.004       0.006\n",
       "CACH           0.3465      0.123      2.822      0.005       0.104       0.589\n",
       "CHMIN          1.1760      0.741      1.587      0.115      -0.288       2.640\n",
       "CHMAX          0.9286      0.197      4.714      0.000       0.540       1.318\n",
       "==============================================================================\n",
       "Omnibus:                       78.454   Durbin-Watson:                   2.305\n",
       "Prob(Omnibus):                  0.000   Jarque-Bera (JB):              750.707\n",
       "Skew:                           1.426   Prob(JB):                    9.69e-164\n",
       "Kurtosis:                      12.987   Cond. No.                     3.38e+04\n",
       "==============================================================================\n",
       "\n",
       "Notes:\n",
       "[1] Standard Errors assume that the covariance matrix of the errors is correctly specified.\n",
       "[2] The condition number is large, 3.38e+04. This might indicate that there are\n",
       "strong multicollinearity or other numerical problems.\n",
       "\"\"\""
      ]
     },
     "execution_count": 61,
     "metadata": {},
     "output_type": "execute_result"
    }
   ],
   "source": [
    "#Model summary\n",
    "mymodel.summary()"
   ]
  },
  {
   "cell_type": "markdown",
   "id": "f251c68b",
   "metadata": {},
   "source": [
    "**P value for the variable CHMIN is >0.05. We remove this feature from the model.**"
   ]
  },
  {
   "cell_type": "code",
   "execution_count": 62,
   "id": "7c8bb041",
   "metadata": {},
   "outputs": [],
   "source": [
    "#Develop new regression model\n",
    "mymodel = ols(formula='PRP~MYCT+MMIN+MMAX+CACH+CHMAX',data=train_data).fit()"
   ]
  },
  {
   "cell_type": "code",
   "execution_count": 63,
   "id": "c3e98a17",
   "metadata": {},
   "outputs": [
    {
     "data": {
      "text/html": [
       "<table class=\"simpletable\">\n",
       "<caption>OLS Regression Results</caption>\n",
       "<tr>\n",
       "  <th>Dep. Variable:</th>           <td>PRP</td>       <th>  R-squared:         </th> <td>   0.905</td>\n",
       "</tr>\n",
       "<tr>\n",
       "  <th>Model:</th>                   <td>OLS</td>       <th>  Adj. R-squared:    </th> <td>   0.902</td>\n",
       "</tr>\n",
       "<tr>\n",
       "  <th>Method:</th>             <td>Least Squares</td>  <th>  F-statistic:       </th> <td>   305.8</td>\n",
       "</tr>\n",
       "<tr>\n",
       "  <th>Date:</th>             <td>Mon, 02 May 2022</td> <th>  Prob (F-statistic):</th> <td>3.03e-80</td>\n",
       "</tr>\n",
       "<tr>\n",
       "  <th>Time:</th>                 <td>23:30:20</td>     <th>  Log-Likelihood:    </th> <td> -880.89</td>\n",
       "</tr>\n",
       "<tr>\n",
       "  <th>No. Observations:</th>      <td>   167</td>      <th>  AIC:               </th> <td>   1774.</td>\n",
       "</tr>\n",
       "<tr>\n",
       "  <th>Df Residuals:</th>          <td>   161</td>      <th>  BIC:               </th> <td>   1792.</td>\n",
       "</tr>\n",
       "<tr>\n",
       "  <th>Df Model:</th>              <td>     5</td>      <th>                     </th>     <td> </td>   \n",
       "</tr>\n",
       "<tr>\n",
       "  <th>Covariance Type:</th>      <td>nonrobust</td>    <th>                     </th>     <td> </td>   \n",
       "</tr>\n",
       "</table>\n",
       "<table class=\"simpletable\">\n",
       "<tr>\n",
       "      <td></td>         <th>coef</th>     <th>std err</th>      <th>t</th>      <th>P>|t|</th>  <th>[0.025</th>    <th>0.975]</th>  \n",
       "</tr>\n",
       "<tr>\n",
       "  <th>Intercept</th> <td>  -43.9194</td> <td>    7.323</td> <td>   -5.998</td> <td> 0.000</td> <td>  -58.381</td> <td>  -29.458</td>\n",
       "</tr>\n",
       "<tr>\n",
       "  <th>MYCT</th>      <td>    0.0364</td> <td>    0.016</td> <td>    2.288</td> <td> 0.023</td> <td>    0.005</td> <td>    0.068</td>\n",
       "</tr>\n",
       "<tr>\n",
       "  <th>MMIN</th>      <td>    0.0182</td> <td>    0.002</td> <td>   12.014</td> <td> 0.000</td> <td>    0.015</td> <td>    0.021</td>\n",
       "</tr>\n",
       "<tr>\n",
       "  <th>MMAX</th>      <td>    0.0051</td> <td>    0.001</td> <td>    9.038</td> <td> 0.000</td> <td>    0.004</td> <td>    0.006</td>\n",
       "</tr>\n",
       "<tr>\n",
       "  <th>CACH</th>      <td>    0.3964</td> <td>    0.119</td> <td>    3.324</td> <td> 0.001</td> <td>    0.161</td> <td>    0.632</td>\n",
       "</tr>\n",
       "<tr>\n",
       "  <th>CHMAX</th>     <td>    1.0489</td> <td>    0.183</td> <td>    5.742</td> <td> 0.000</td> <td>    0.688</td> <td>    1.410</td>\n",
       "</tr>\n",
       "</table>\n",
       "<table class=\"simpletable\">\n",
       "<tr>\n",
       "  <th>Omnibus:</th>       <td>61.351</td> <th>  Durbin-Watson:     </th> <td>   2.327</td> \n",
       "</tr>\n",
       "<tr>\n",
       "  <th>Prob(Omnibus):</th> <td> 0.000</td> <th>  Jarque-Bera (JB):  </th> <td> 492.859</td> \n",
       "</tr>\n",
       "<tr>\n",
       "  <th>Skew:</th>          <td> 1.072</td> <th>  Prob(JB):          </th> <td>9.48e-108</td>\n",
       "</tr>\n",
       "<tr>\n",
       "  <th>Kurtosis:</th>      <td>11.138</td> <th>  Cond. No.          </th> <td>3.38e+04</td> \n",
       "</tr>\n",
       "</table><br/><br/>Notes:<br/>[1] Standard Errors assume that the covariance matrix of the errors is correctly specified.<br/>[2] The condition number is large, 3.38e+04. This might indicate that there are<br/>strong multicollinearity or other numerical problems."
      ],
      "text/plain": [
       "<class 'statsmodels.iolib.summary.Summary'>\n",
       "\"\"\"\n",
       "                            OLS Regression Results                            \n",
       "==============================================================================\n",
       "Dep. Variable:                    PRP   R-squared:                       0.905\n",
       "Model:                            OLS   Adj. R-squared:                  0.902\n",
       "Method:                 Least Squares   F-statistic:                     305.8\n",
       "Date:                Mon, 02 May 2022   Prob (F-statistic):           3.03e-80\n",
       "Time:                        23:30:20   Log-Likelihood:                -880.89\n",
       "No. Observations:                 167   AIC:                             1774.\n",
       "Df Residuals:                     161   BIC:                             1792.\n",
       "Df Model:                           5                                         \n",
       "Covariance Type:            nonrobust                                         \n",
       "==============================================================================\n",
       "                 coef    std err          t      P>|t|      [0.025      0.975]\n",
       "------------------------------------------------------------------------------\n",
       "Intercept    -43.9194      7.323     -5.998      0.000     -58.381     -29.458\n",
       "MYCT           0.0364      0.016      2.288      0.023       0.005       0.068\n",
       "MMIN           0.0182      0.002     12.014      0.000       0.015       0.021\n",
       "MMAX           0.0051      0.001      9.038      0.000       0.004       0.006\n",
       "CACH           0.3964      0.119      3.324      0.001       0.161       0.632\n",
       "CHMAX          1.0489      0.183      5.742      0.000       0.688       1.410\n",
       "==============================================================================\n",
       "Omnibus:                       61.351   Durbin-Watson:                   2.327\n",
       "Prob(Omnibus):                  0.000   Jarque-Bera (JB):              492.859\n",
       "Skew:                           1.072   Prob(JB):                    9.48e-108\n",
       "Kurtosis:                      11.138   Cond. No.                     3.38e+04\n",
       "==============================================================================\n",
       "\n",
       "Notes:\n",
       "[1] Standard Errors assume that the covariance matrix of the errors is correctly specified.\n",
       "[2] The condition number is large, 3.38e+04. This might indicate that there are\n",
       "strong multicollinearity or other numerical problems.\n",
       "\"\"\""
      ]
     },
     "execution_count": 63,
     "metadata": {},
     "output_type": "execute_result"
    }
   ],
   "source": [
    "#Check the model\n",
    "mymodel.summary()"
   ]
  },
  {
   "cell_type": "markdown",
   "id": "13361a4b",
   "metadata": {},
   "source": [
    "**Model**\n",
    "\n",
    "`PRP = -43.9194 + 0.0364*MYCT + 0.0182*MMIN + 0.0051*MMAX + 0.3964*CACH + 1.0489*CHMAX`"
   ]
  },
  {
   "cell_type": "markdown",
   "id": "6f02239b",
   "metadata": {},
   "source": [
    "---\n",
    "**comment**\n",
    "Here R<sup>2</sup> and R<sup>2</sup> <sub>Adj</sub> remains almost same after removing CHMIN variable. It means CHMIN variable was very least significant.\n",
    "\n",
    "---"
   ]
  },
  {
   "cell_type": "markdown",
   "id": "2f0432a6",
   "metadata": {},
   "source": [
    "**Model significance**\n",
    "\n",
    "p value of F statistics = 3.03e-80 which is <0.05.So, we can say that model is significant.\n",
    "\n"
   ]
  },
  {
   "cell_type": "markdown",
   "id": "e9f7510a",
   "metadata": {},
   "source": [
    "R<sup>2</sup> >0.6\n",
    "\n",
    "R<sup>2</sup> <sub>Adj</sub>>0.6\n",
    "\n",
    "So, the model accuaracy is good."
   ]
  },
  {
   "cell_type": "code",
   "execution_count": 64,
   "id": "854c367d",
   "metadata": {},
   "outputs": [],
   "source": [
    "# we find the predicted values\n",
    "predy = mymodel.predict()"
   ]
  },
  {
   "cell_type": "markdown",
   "id": "336d3953",
   "metadata": {},
   "source": [
    "**Model adequacy check**"
   ]
  },
  {
   "cell_type": "code",
   "execution_count": 65,
   "id": "159dfa7f",
   "metadata": {},
   "outputs": [],
   "source": [
    "#Calculate the residuals\n",
    "res = mymodel.resid"
   ]
  },
  {
   "cell_type": "code",
   "execution_count": 66,
   "id": "5c9884ca",
   "metadata": {},
   "outputs": [
    {
     "data": {
      "text/plain": [
       "4.762894997963759e-14"
      ]
     },
     "execution_count": 66,
     "metadata": {},
     "output_type": "execute_result"
    }
   ],
   "source": [
    "# We check the normality of the residuals\n",
    "stats.normaltest(res).pvalue"
   ]
  },
  {
   "cell_type": "markdown",
   "id": "acd473db",
   "metadata": {},
   "source": [
    "We find that Residuals are not normally distributed as p value <0.05."
   ]
  },
  {
   "cell_type": "code",
   "execution_count": 67,
   "id": "452c27e1",
   "metadata": {
    "scrolled": true
   },
   "outputs": [
    {
     "data": {
      "image/png": "[encoded data removed]",
      "text/plain": [
       "<Figure size 432x288 with 1 Axes>"
      ]
     },
     "metadata": {
      "needs_background": "light"
     },
     "output_type": "display_data"
    }
   ],
   "source": [
    "#We plot the Residuals in normal probability plot\n",
    "stats.probplot(res,plot=myplot)\n",
    "myplot.grid()\n",
    "myplot.show()"
   ]
  },
  {
   "cell_type": "markdown",
   "id": "b466b10d",
   "metadata": {},
   "source": [
    "We also find that in the q-q plot, points are not falling on the diagonal.\n",
    "\n",
    "So, we can tell that residuals are not normally distributed."
   ]
  },
  {
   "cell_type": "code",
   "execution_count": 68,
   "id": "5672b8d6",
   "metadata": {},
   "outputs": [
    {
     "data": {
      "image/png": "[encoded data removed]",
      "text/plain": [
       "<Figure size 432x288 with 1 Axes>"
      ]
     },
     "metadata": {
      "needs_background": "light"
     },
     "output_type": "display_data"
    }
   ],
   "source": [
    "#Residual vs Predicted plot\n",
    "myplot.scatter(x=predy,y=res)\n",
    "myplot.xlabel('Predicted')\n",
    "myplot.ylabel('Residual')\n",
    "myplot.show()"
   ]
  },
  {
   "cell_type": "markdown",
   "id": "adcba7f8",
   "metadata": {},
   "source": [
    "We find that residual vs predicted not uniformly dispersed. So, againg the model is not a good model.\n",
    "\n",
    "**Model is not adequate**"
   ]
  },
  {
   "cell_type": "code",
   "execution_count": 69,
   "id": "d0f6a56e",
   "metadata": {},
   "outputs": [
    {
     "name": "stdout",
     "output_type": "stream",
     "text": [
      "2234.476622703269\n",
      "47.270250927018246\n"
     ]
    }
   ],
   "source": [
    "#Compute MSE on training data\n",
    "mse = mean_squared_error(y_true=y_train,y_pred=predy)\n",
    "print(mse)\n",
    "#Compute RMSE\n",
    "rmse = mymath.sqrt(mse)\n",
    "print(rmse)"
   ]
  },
  {
   "cell_type": "markdown",
   "id": "25dd82b1",
   "metadata": {},
   "source": [
    "**Applying the model on test data**"
   ]
  },
  {
   "cell_type": "code",
   "execution_count": 70,
   "id": "5c5e3050",
   "metadata": {},
   "outputs": [],
   "source": [
    "# we find the predicted values on test data\n",
    "predtest = mymodel.predict(x_test)"
   ]
  },
  {
   "cell_type": "code",
   "execution_count": 74,
   "id": "bcac1a7e",
   "metadata": {},
   "outputs": [
    {
     "name": "stdout",
     "output_type": "stream",
     "text": [
      "9903.626274219612\n",
      "99.51696475586267\n"
     ]
    }
   ],
   "source": [
    "#Compute MSE on test data\n",
    "mse = mean_squared_error(y_true=y_test,y_pred=predtest)\n",
    "print(mse)\n",
    "#Compute RMSE on test data\n",
    "rmse = mymath.sqrt(mse)\n",
    "print(rmse)"
   ]
  },
  {
   "cell_type": "markdown",
   "id": "3d7a4b59",
   "metadata": {},
   "source": [
    "Test data Residual Sum of Square = (Test data MSE) * (Number of datapoints)\n"
   ]
  },
  {
   "cell_type": "code",
   "execution_count": 79,
   "id": "9a86b36d",
   "metadata": {},
   "outputs": [],
   "source": [
    "#Number of data points in test data\n",
    "n = y_test.count()"
   ]
  },
  {
   "cell_type": "code",
   "execution_count": 80,
   "id": "9ad666b4",
   "metadata": {},
   "outputs": [],
   "source": [
    "#Test data Residual Sum of Squares\n",
    "RSS_test = mse*n"
   ]
  },
  {
   "cell_type": "code",
   "execution_count": 81,
   "id": "12c8ed3a",
   "metadata": {},
   "outputs": [],
   "source": [
    "#Total Sum of square of test data\n",
    "Total_SS = y_test.var()*(n-1)"
   ]
  },
  {
   "cell_type": "code",
   "execution_count": 82,
   "id": "3ca89558",
   "metadata": {},
   "outputs": [
    {
     "data": {
      "text/plain": [
       "0.7156202477750064"
      ]
     },
     "execution_count": 82,
     "metadata": {},
     "output_type": "execute_result"
    }
   ],
   "source": [
    "#Test data R square\n",
    "rsq_test = 1 - RSS_test/Total_SS\n",
    "rsq_test"
   ]
  },
  {
   "cell_type": "markdown",
   "id": "782a232d",
   "metadata": {},
   "source": [
    "| |Linear Regression Model | |\n",
    "| ----------- | ----------- |----------- |\n",
    "| | Train Data |Test Data |\n",
    "| R-sq |90.5|71.56|\n",
    "|MSE |2234.47 |9903.62|\n",
    "|RMSE |47.27 |99.51|\n"
   ]
  },
  {
   "cell_type": "markdown",
   "id": "2d53bdc1",
   "metadata": {},
   "source": [
    "So, when we compare linear regrassion model with other CART, RandomForest, Bagging model, we see that for linear regrassion model there is a maximum reduction in R<sup>2</sup> value from train data to test data."
   ]
  }
 ],
 "metadata": {
  "kernelspec": {
   "display_name": "Python 3 (ipykernel)",
   "language": "python",
   "name": "python3"
  },
  "language_info": {
   "codemirror_mode": {
    "name": "ipython",
    "version": 3
   },
   "file_extension": ".py",
   "mimetype": "text/x-python",
   "name": "python",
   "nbconvert_exporter": "python",
   "pygments_lexer": "ipython3",
   "version": "3.9.12"
  }
 },
 "nbformat": 4,
 "nbformat_minor": 5
}
