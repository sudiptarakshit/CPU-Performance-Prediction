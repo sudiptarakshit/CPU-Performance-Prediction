{
 "cells": [
  {
   "cell_type": "code",
   "execution_count": 1,
   "id": "5334dcff",
   "metadata": {},
   "outputs": [],
   "source": [
    "#Import the packages\n",
    "import pandas as mypd\n",
    "from sklearn import tree\n",
    "from sklearn.model_selection import cross_val_score\n",
    "from sklearn.model_selection import GridSearchCV\n",
    "import matplotlib.pyplot as myplot\n",
    "from sklearn.model_selection import train_test_split\n",
    "from sklearn.metrics import mean_squared_error\n",
    "import math as mymath\n",
    "import seaborn as mysb\n",
    "from sklearn.ensemble import RandomForestRegressor\n",
    "import random\n",
    "from statsmodels.formula.api import ols\n",
    "from scipy import stats\n",
    "from sklearn.neighbors import KNeighborsRegressor\n",
    "from sklearn.naive_bayes import GaussianNB\n",
    "from sklearn import svm\n",
    "from sklearn.preprocessing import MinMaxScaler"
   ]
  },
  {
   "cell_type": "code",
   "execution_count": 2,
   "id": "51cdef1d",
   "metadata": {},
   "outputs": [],
   "source": [
    "#Import the dataset\n",
    "mydata = mypd.read_excel('/Users/sudiptarakshit/Desktop/ISI MS QMS/Sem2/MDA/Assignment/Assignment8/CPU_Data.xlsx')"
   ]
  },
  {
   "cell_type": "code",
   "execution_count": 3,
   "id": "4872f2f6",
   "metadata": {},
   "outputs": [
    {
     "data": {
      "text/html": [
       "<div>\n",
       "<style scoped>\n",
       "    .dataframe tbody tr th:only-of-type {\n",
       "        vertical-align: middle;\n",
       "    }\n",
       "\n",
       "    .dataframe tbody tr th {\n",
       "        vertical-align: top;\n",
       "    }\n",
       "\n",
       "    .dataframe thead th {\n",
       "        text-align: right;\n",
       "    }\n",
       "</style>\n",
       "<table border=\"1\" class=\"dataframe\">\n",
       "  <thead>\n",
       "    <tr style=\"text-align: right;\">\n",
       "      <th></th>\n",
       "      <th>MYCT</th>\n",
       "      <th>MMIN</th>\n",
       "      <th>MMAX</th>\n",
       "      <th>CACH</th>\n",
       "      <th>CHMIN</th>\n",
       "      <th>CHMAX</th>\n",
       "      <th>PRP</th>\n",
       "    </tr>\n",
       "  </thead>\n",
       "  <tbody>\n",
       "    <tr>\n",
       "      <th>0</th>\n",
       "      <td>125</td>\n",
       "      <td>256</td>\n",
       "      <td>6000</td>\n",
       "      <td>256</td>\n",
       "      <td>16</td>\n",
       "      <td>128</td>\n",
       "      <td>198</td>\n",
       "    </tr>\n",
       "    <tr>\n",
       "      <th>1</th>\n",
       "      <td>29</td>\n",
       "      <td>8000</td>\n",
       "      <td>32000</td>\n",
       "      <td>32</td>\n",
       "      <td>8</td>\n",
       "      <td>32</td>\n",
       "      <td>269</td>\n",
       "    </tr>\n",
       "    <tr>\n",
       "      <th>2</th>\n",
       "      <td>29</td>\n",
       "      <td>8000</td>\n",
       "      <td>32000</td>\n",
       "      <td>32</td>\n",
       "      <td>8</td>\n",
       "      <td>32</td>\n",
       "      <td>220</td>\n",
       "    </tr>\n",
       "    <tr>\n",
       "      <th>3</th>\n",
       "      <td>29</td>\n",
       "      <td>8000</td>\n",
       "      <td>32000</td>\n",
       "      <td>32</td>\n",
       "      <td>8</td>\n",
       "      <td>32</td>\n",
       "      <td>172</td>\n",
       "    </tr>\n",
       "    <tr>\n",
       "      <th>4</th>\n",
       "      <td>29</td>\n",
       "      <td>8000</td>\n",
       "      <td>16000</td>\n",
       "      <td>32</td>\n",
       "      <td>8</td>\n",
       "      <td>16</td>\n",
       "      <td>132</td>\n",
       "    </tr>\n",
       "  </tbody>\n",
       "</table>\n",
       "</div>"
      ],
      "text/plain": [
       "   MYCT  MMIN   MMAX  CACH  CHMIN  CHMAX  PRP\n",
       "0   125   256   6000   256     16    128  198\n",
       "1    29  8000  32000    32      8     32  269\n",
       "2    29  8000  32000    32      8     32  220\n",
       "3    29  8000  32000    32      8     32  172\n",
       "4    29  8000  16000    32      8     16  132"
      ]
     },
     "execution_count": 3,
     "metadata": {},
     "output_type": "execute_result"
    }
   ],
   "source": [
    "#Explore the dataset\n",
    "mydata.head()"
   ]
  },
  {
   "cell_type": "code",
   "execution_count": 4,
   "id": "bc299fac",
   "metadata": {},
   "outputs": [
    {
     "name": "stdout",
     "output_type": "stream",
     "text": [
      "<class 'pandas.core.frame.DataFrame'>\n",
      "RangeIndex: 209 entries, 0 to 208\n",
      "Data columns (total 7 columns):\n",
      " #   Column  Non-Null Count  Dtype\n",
      "---  ------  --------------  -----\n",
      " 0   MYCT    209 non-null    int64\n",
      " 1   MMIN    209 non-null    int64\n",
      " 2   MMAX    209 non-null    int64\n",
      " 3   CACH    209 non-null    int64\n",
      " 4   CHMIN   209 non-null    int64\n",
      " 5   CHMAX   209 non-null    int64\n",
      " 6   PRP     209 non-null    int64\n",
      "dtypes: int64(7)\n",
      "memory usage: 11.6 KB\n"
     ]
    }
   ],
   "source": [
    "#Check the dataset\n",
    "mydata.info()"
   ]
  },
  {
   "cell_type": "markdown",
   "id": "d189b3fa",
   "metadata": {},
   "source": [
    "In the dataset, we have all the continuous variables. We see that Features are MYCT, MMIN, MMAX, CACH, CHMIN, CHMAX Response variable is PRP\n",
    "\n",
    "We see that there is no missing value in the dataset. Also there are total 209 observations in the dataset"
   ]
  },
  {
   "cell_type": "code",
   "execution_count": 5,
   "id": "ee4407c6",
   "metadata": {},
   "outputs": [],
   "source": [
    "#Separate x's and y\n",
    "x = mydata.iloc[:,0:6]\n",
    "y = mydata.iloc[:,6]"
   ]
  },
  {
   "cell_type": "markdown",
   "id": "17e79123",
   "metadata": {},
   "source": [
    "### Split the data randomly into training (80%) and test (20%)"
   ]
  },
  {
   "cell_type": "markdown",
   "id": "845d7989",
   "metadata": {},
   "source": [
    "We initialize the random number generator."
   ]
  },
  {
   "cell_type": "code",
   "execution_count": 6,
   "id": "7613d290",
   "metadata": {},
   "outputs": [],
   "source": [
    "#Set seed\n",
    "random.seed(100)"
   ]
  },
  {
   "cell_type": "code",
   "execution_count": 7,
   "id": "03c528c8",
   "metadata": {},
   "outputs": [],
   "source": [
    "#Split the data into training (80%) and testing (20%)\n",
    "x_train,x_test,y_train,y_test = train_test_split(x,y,test_size=0.2,random_state=100)"
   ]
  },
  {
   "cell_type": "code",
   "execution_count": 8,
   "id": "7fd3efd8",
   "metadata": {},
   "outputs": [
    {
     "data": {
      "text/plain": [
       "(MYCT     167\n",
       " MMIN     167\n",
       " MMAX     167\n",
       " CACH     167\n",
       " CHMIN    167\n",
       " CHMAX    167\n",
       " dtype: int64,\n",
       " MYCT     42\n",
       " MMIN     42\n",
       " MMAX     42\n",
       " CACH     42\n",
       " CHMIN    42\n",
       " CHMAX    42\n",
       " dtype: int64)"
      ]
     },
     "execution_count": 8,
     "metadata": {},
     "output_type": "execute_result"
    }
   ],
   "source": [
    "#Check the test/train split\n",
    "x_train.count(), x_test.count()"
   ]
  },
  {
   "cell_type": "markdown",
   "id": "629ddafd",
   "metadata": {},
   "source": [
    "train data has 167 observations & test data has 42 observations."
   ]
  },
  {
   "cell_type": "markdown",
   "id": "8d126d42",
   "metadata": {},
   "source": [
    "For easiness of computation we do MinMax transformation on the data."
   ]
  },
  {
   "cell_type": "code",
   "execution_count": 9,
   "id": "b6920f7c",
   "metadata": {},
   "outputs": [],
   "source": [
    "#Scale the train data\n",
    "scalar = MinMaxScaler()"
   ]
  },
  {
   "cell_type": "code",
   "execution_count": 10,
   "id": "d08c6761",
   "metadata": {},
   "outputs": [],
   "source": [
    "#Fit and transform x_train data\n",
    "x_train = scalar.fit_transform(X=x_train)"
   ]
  },
  {
   "cell_type": "code",
   "execution_count": 11,
   "id": "1159c73e",
   "metadata": {},
   "outputs": [],
   "source": [
    "#Transform x_test data\n",
    "x_test = scalar.transform(X=x_test)"
   ]
  },
  {
   "cell_type": "markdown",
   "id": "cec0090b",
   "metadata": {},
   "source": [
    "| | **Operation on Train data** |  |\n",
    "| :----: | :----: | :----: |\n",
    "| | Build a General Model |  |\n",
    "| |⇩| |\n",
    "| |R<sup>2</sup> Accuracy Check | |\n",
    "| |⇩| |\n",
    "| |Cross Validation R<sup>2</sup> Check for generalizability | |\n",
    "| |⇩ | |\n",
    "| |Hyper Parameter Tuning| |\n",
    "| |⇩ | |\n",
    "| |Build model using the best parameters| |\n",
    "| |⇩ | |\n",
    "| |R<sup>2</sup> Accuracy Check | |\n",
    "| |⇩ | |\n",
    "| |Cross Validation R<sup>2</sup> Check for generalizability | |\n",
    "| |⇩ | |\n",
    "||Get predicted value on train data||\n",
    "| |⇩ | |\n",
    "|| MSE||\n",
    "| |⇩ | |\n",
    "||RMSE||\n"
   ]
  },
  {
   "cell_type": "markdown",
   "id": "75f503d0",
   "metadata": {},
   "source": [
    "| | **Operation on Test data** |  |\n",
    "| :----: | :----: | :----: |\n",
    "||Get predicted value on Test data||\n",
    "| |⇩| |\n",
    "||R<sup>2</sup> accuracy on test data||\n",
    "| |⇩ | |\n",
    "||MSE||\n",
    "| |⇩ | |\n",
    "||RMSE||"
   ]
  },
  {
   "cell_type": "markdown",
   "id": "87a74136",
   "metadata": {},
   "source": [
    "## KNN Regressor"
   ]
  },
  {
   "cell_type": "code",
   "execution_count": 12,
   "id": "12a3c703",
   "metadata": {},
   "outputs": [],
   "source": [
    "#Specify the model\n",
    "mymodel = KNeighborsRegressor(n_neighbors=5)"
   ]
  },
  {
   "cell_type": "code",
   "execution_count": 13,
   "id": "fe50d676",
   "metadata": {},
   "outputs": [],
   "source": [
    "#Fit the model to training data\n",
    "mymodel = mymodel.fit(x_train,y_train)"
   ]
  },
  {
   "cell_type": "code",
   "execution_count": 14,
   "id": "61bc2f0f",
   "metadata": {},
   "outputs": [
    {
     "data": {
      "text/plain": [
       "0.822"
      ]
     },
     "execution_count": 14,
     "metadata": {},
     "output_type": "execute_result"
    }
   ],
   "source": [
    "#Model accuarcy\n",
    "accuracy = mymodel.score(x_train,y_train)\n",
    "round(accuracy,3)"
   ]
  },
  {
   "cell_type": "code",
   "execution_count": 15,
   "id": "4e36de76",
   "metadata": {},
   "outputs": [],
   "source": [
    "#Cross Validation\n",
    "myscore = cross_val_score(estimator=mymodel,X=x_train,y=y_train,cv=4,scoring='r2')"
   ]
  },
  {
   "cell_type": "code",
   "execution_count": 16,
   "id": "7de3d90e",
   "metadata": {},
   "outputs": [
    {
     "data": {
      "text/plain": [
       "0.7922176751200517"
      ]
     },
     "execution_count": 16,
     "metadata": {},
     "output_type": "execute_result"
    }
   ],
   "source": [
    "#Cross validation accuracy\n",
    "myscore.mean()"
   ]
  },
  {
   "cell_type": "markdown",
   "id": "66549cfd",
   "metadata": {},
   "source": [
    "Accuracy is not very good with less model generalizability.\n",
    "\n",
    "There may be an underfitting. We have to do hyper-parameter tuning for a more generalized model."
   ]
  },
  {
   "cell_type": "code",
   "execution_count": 17,
   "id": "ceb577df",
   "metadata": {},
   "outputs": [],
   "source": [
    "#Hyper parameter tuning\n",
    "myparamgrid = {'n_neighbors':[3,4,5,6,7,8,9,10,11,12,13,14,15]}"
   ]
  },
  {
   "cell_type": "code",
   "execution_count": 18,
   "id": "f2e17ba2",
   "metadata": {},
   "outputs": [],
   "source": [
    "# Set up search\n",
    "mysearch = GridSearchCV(estimator=mymodel,param_grid=myparamgrid,scoring='neg_mean_squared_error',cv=5,verbose=True)"
   ]
  },
  {
   "cell_type": "code",
   "execution_count": 19,
   "id": "ef4008e9",
   "metadata": {},
   "outputs": [
    {
     "name": "stdout",
     "output_type": "stream",
     "text": [
      "Fitting 5 folds for each of 13 candidates, totalling 65 fits\n"
     ]
    }
   ],
   "source": [
    "#Fit the search on training data\n",
    "mysearch = mysearch.fit(X=x_train,y=y_train)"
   ]
  },
  {
   "cell_type": "code",
   "execution_count": 20,
   "id": "bf3cbaa8",
   "metadata": {},
   "outputs": [
    {
     "data": {
      "text/plain": [
       "{'n_neighbors': 3}"
      ]
     },
     "execution_count": 20,
     "metadata": {},
     "output_type": "execute_result"
    }
   ],
   "source": [
    "# Optimum parameter values\n",
    "mysearch.best_params_"
   ]
  },
  {
   "cell_type": "code",
   "execution_count": 21,
   "id": "faa0bf38",
   "metadata": {},
   "outputs": [],
   "source": [
    "#Specify the optimum model\n",
    "mymodel = KNeighborsRegressor(n_neighbors=3)"
   ]
  },
  {
   "cell_type": "code",
   "execution_count": 22,
   "id": "ca11927b",
   "metadata": {},
   "outputs": [],
   "source": [
    "# Fit the model to training data\n",
    "mymodel = mymodel.fit(X=x_train,y=y_train)"
   ]
  },
  {
   "cell_type": "code",
   "execution_count": 23,
   "id": "aa4a0924",
   "metadata": {},
   "outputs": [
    {
     "data": {
      "text/plain": [
       "0.8956890613836194"
      ]
     },
     "execution_count": 23,
     "metadata": {},
     "output_type": "execute_result"
    }
   ],
   "source": [
    "# Check the model accuracy: R square\n",
    "rsq = mymodel.score(x_train,y_train)\n",
    "rsq"
   ]
  },
  {
   "cell_type": "code",
   "execution_count": 24,
   "id": "cbc127cd",
   "metadata": {},
   "outputs": [],
   "source": [
    "#Cross Validation\n",
    "myscore = cross_val_score(estimator=mymodel,X=x_train,y=y_train,cv=4,scoring='r2')"
   ]
  },
  {
   "cell_type": "code",
   "execution_count": 25,
   "id": "e17c0dc5",
   "metadata": {},
   "outputs": [
    {
     "data": {
      "text/plain": [
       "0.7955864171733852"
      ]
     },
     "execution_count": 25,
     "metadata": {},
     "output_type": "execute_result"
    }
   ],
   "source": [
    "#Cross validation accuracy\n",
    "myscore.mean()"
   ]
  },
  {
   "cell_type": "markdown",
   "id": "1c91ca96",
   "metadata": {},
   "source": [
    "There is improvement in model accuracy after hyper parameter optimization, Also, there is increase in model generalizability."
   ]
  },
  {
   "cell_type": "code",
   "execution_count": 26,
   "id": "5a7ea10b",
   "metadata": {},
   "outputs": [],
   "source": [
    "# Predicted Values\n",
    "predy = mymodel.predict(X=x_train)"
   ]
  },
  {
   "cell_type": "code",
   "execution_count": 27,
   "id": "dd6cfd1b",
   "metadata": {},
   "outputs": [
    {
     "data": {
      "text/plain": [
       "2446.8908848968726"
      ]
     },
     "execution_count": 27,
     "metadata": {},
     "output_type": "execute_result"
    }
   ],
   "source": [
    "#Mean Square Error(MSE) on training data\n",
    "mse = mean_squared_error(y_true=y_train,y_pred=predy)\n",
    "mse"
   ]
  },
  {
   "cell_type": "code",
   "execution_count": 28,
   "id": "8bd3bb9c",
   "metadata": {},
   "outputs": [
    {
     "data": {
      "text/plain": [
       "49.46605790738608"
      ]
     },
     "execution_count": 28,
     "metadata": {},
     "output_type": "execute_result"
    }
   ],
   "source": [
    "# Root Mean Square Errorm(RMSE) on training data\n",
    "rmse = mymath.sqrt(mse)\n",
    "rmse"
   ]
  },
  {
   "cell_type": "markdown",
   "id": "ea6e08eb",
   "metadata": {},
   "source": [
    "RMSE value is coming quite high though R<sup>2</sup> value is quite good.\n",
    "\n",
    "This may be due to extreme values present in response variables. We draw box plot of the response variable PRP to validate the claim.\n"
   ]
  },
  {
   "cell_type": "markdown",
   "id": "4396ef26",
   "metadata": {},
   "source": [
    "**PRP**"
   ]
  },
  {
   "cell_type": "code",
   "execution_count": 29,
   "id": "e1c7714d",
   "metadata": {},
   "outputs": [
    {
     "data": {
      "image/png": "[encoded data removed]",
      "text/plain": [
       "<Figure size 432x288 with 1 Axes>"
      ]
     },
     "metadata": {
      "needs_background": "light"
     },
     "output_type": "display_data"
    },
    {
     "data": {
      "image/png": "[encoded data removed]",
      "text/plain": [
       "<Figure size 432x288 with 1 Axes>"
      ]
     },
     "metadata": {
      "needs_background": "light"
     },
     "output_type": "display_data"
    },
    {
     "data": {
      "image/png": "[encoded data removed]",
      "text/plain": [
       "<Figure size 432x288 with 1 Axes>"
      ]
     },
     "metadata": {
      "needs_background": "light"
     },
     "output_type": "display_data"
    }
   ],
   "source": [
    "#Separate the PRP variable\n",
    "PRP = mydata.PRP\n",
    "#Box plot\n",
    "myplot.boxplot(x=PRP)\n",
    "myplot.show()\n",
    "#Histogram\n",
    "myplot.hist(x=PRP,bins=30)\n",
    "myplot.show()\n",
    "#Rug plot & KDE Plot\n",
    "mysb.rugplot(x=PRP)\n",
    "mysb.kdeplot(PRP)\n",
    "myplot.ylim(0,0.01)\n",
    "myplot.show()"
   ]
  },
  {
   "cell_type": "markdown",
   "id": "e3c08ddf",
   "metadata": {},
   "source": [
    "So, though the overall model accuracy is good (95.08 %), we are getting high RMSE as some extreme values are present in the response variable."
   ]
  },
  {
   "cell_type": "markdown",
   "id": "85df6310",
   "metadata": {},
   "source": [
    "## Applying the model on test data"
   ]
  },
  {
   "cell_type": "code",
   "execution_count": 30,
   "id": "bc4e5de6",
   "metadata": {},
   "outputs": [],
   "source": [
    "#Validate the model on test data\n",
    "predtest = mymodel.predict(X=x_test)"
   ]
  },
  {
   "cell_type": "code",
   "execution_count": 31,
   "id": "4f7eaf3a",
   "metadata": {},
   "outputs": [
    {
     "data": {
      "text/plain": [
       "0.7328315052584464"
      ]
     },
     "execution_count": 31,
     "metadata": {},
     "output_type": "execute_result"
    }
   ],
   "source": [
    "#Accuracy of the model on test data - generalizability\n",
    "test_accuracy = mymodel.score(X=x_test,y=y_test)\n",
    "test_accuracy"
   ]
  },
  {
   "cell_type": "markdown",
   "id": "a0ce9f40",
   "metadata": {},
   "source": [
    "There is a drop of R<sup>2</sup> value from 95.08% to 86.59%. It shows model generalizability is not good."
   ]
  },
  {
   "cell_type": "code",
   "execution_count": 32,
   "id": "4948af5b",
   "metadata": {},
   "outputs": [
    {
     "data": {
      "text/plain": [
       "9304.238095238094"
      ]
     },
     "execution_count": 32,
     "metadata": {},
     "output_type": "execute_result"
    }
   ],
   "source": [
    "#Mean Square Error(MSE) on test data\n",
    "mse_test = mean_squared_error(y_true=y_test,y_pred=predtest)\n",
    "mse_test"
   ]
  },
  {
   "cell_type": "code",
   "execution_count": 33,
   "id": "19a76c76",
   "metadata": {},
   "outputs": [
    {
     "data": {
      "text/plain": [
       "96.45847860731628"
      ]
     },
     "execution_count": 33,
     "metadata": {},
     "output_type": "execute_result"
    }
   ],
   "source": [
    "# Root Mean Square Errorm(RMSE) on test data\n",
    "rmse_test = mymath.sqrt(mse_test)\n",
    "rmse_test"
   ]
  },
  {
   "cell_type": "markdown",
   "id": "383cbcc5",
   "metadata": {},
   "source": [
    "We see that RMSE has increased on test data from 96.45 to 49.46. It shows model generalizability is not good."
   ]
  },
  {
   "cell_type": "markdown",
   "id": "4c0b1651",
   "metadata": {},
   "source": [
    "| |K Nearest Neighbour | |\n",
    "| :-----------: | :-----------: |:-----------: |\n",
    "| | Train Data |Test Data |\n",
    "| R-sq |89.56|73.28|\n",
    "|MSE |2446.89 |9304.23|\n",
    "|RMSE |49.46|96.45|\n"
   ]
  },
  {
   "cell_type": "markdown",
   "id": "d6d5595d",
   "metadata": {},
   "source": [
    "## SVM Regressor"
   ]
  },
  {
   "cell_type": "code",
   "execution_count": 53,
   "id": "2cc4fe10",
   "metadata": {},
   "outputs": [],
   "source": [
    "#Specify the model\n",
    "mymodel = svm.SVR()"
   ]
  },
  {
   "cell_type": "code",
   "execution_count": 54,
   "id": "9949e13b",
   "metadata": {},
   "outputs": [],
   "source": [
    "#Fit the model to the data\n",
    "mymodel = mymodel.fit(X=x_train,y=y_train)"
   ]
  },
  {
   "cell_type": "code",
   "execution_count": 55,
   "id": "91f0a50e",
   "metadata": {},
   "outputs": [
    {
     "data": {
      "text/plain": [
       "-0.008077933108057156"
      ]
     },
     "execution_count": 55,
     "metadata": {},
     "output_type": "execute_result"
    }
   ],
   "source": [
    "#Model accuarcy\n",
    "rsq = mymodel.score(x_train,y_train)\n",
    "rsq"
   ]
  },
  {
   "cell_type": "code",
   "execution_count": 56,
   "id": "0502a986",
   "metadata": {},
   "outputs": [],
   "source": [
    "#Cross validation\n",
    "myscore = cross_val_score(estimator=mymodel,X=x_train,y=y_train,cv=4,scoring='r2')"
   ]
  },
  {
   "cell_type": "code",
   "execution_count": 57,
   "id": "c4a29a89",
   "metadata": {},
   "outputs": [
    {
     "data": {
      "text/plain": [
       "-0.02753841494864276"
      ]
     },
     "execution_count": 57,
     "metadata": {},
     "output_type": "execute_result"
    }
   ],
   "source": [
    "#Cross Validation accuracy\n",
    "myscore.mean()"
   ]
  },
  {
   "cell_type": "markdown",
   "id": "ee058541",
   "metadata": {},
   "source": [
    "**Hyper Parameter Tuning**"
   ]
  },
  {
   "cell_type": "code",
   "execution_count": 42,
   "id": "ebd9fc58",
   "metadata": {},
   "outputs": [],
   "source": [
    "#Specify the parameter grid\n",
    "myparamgrid = {'kernel':['linear', 'poly', 'rbf'],'C':[0.001, 0.01, 0.1, 1, 5, 10, 100],'degree':[1,2,3]}"
   ]
  },
  {
   "cell_type": "code",
   "execution_count": 43,
   "id": "e5c16c42",
   "metadata": {},
   "outputs": [],
   "source": [
    "#Specify the search\n",
    "mysearch = GridSearchCV(estimator=mymodel,param_grid=myparamgrid,scoring='neg_mean_squared_error',cv=4,verbose=1)"
   ]
  },
  {
   "cell_type": "code",
   "execution_count": 44,
   "id": "ffecfb19",
   "metadata": {},
   "outputs": [
    {
     "name": "stdout",
     "output_type": "stream",
     "text": [
      "Fitting 4 folds for each of 63 candidates, totalling 252 fits\n"
     ]
    }
   ],
   "source": [
    "#Fit the search to the data\n",
    "mysearch = mysearch.fit(X=x_train,y=y_train)"
   ]
  },
  {
   "cell_type": "code",
   "execution_count": 45,
   "id": "2f04abc4",
   "metadata": {},
   "outputs": [
    {
     "data": {
      "text/plain": [
       "{'C': 1, 'degree': 2, 'kernel': 'poly'}"
      ]
     },
     "execution_count": 45,
     "metadata": {},
     "output_type": "execute_result"
    }
   ],
   "source": [
    "#optimum parameters of SVM model\n",
    "mysearch.best_params_"
   ]
  },
  {
   "cell_type": "code",
   "execution_count": 59,
   "id": "62efd868",
   "metadata": {},
   "outputs": [],
   "source": [
    "# Specify the optimum model\n",
    "mymodel = svm.SVR(kernel='poly',degree=2,C=1)"
   ]
  },
  {
   "cell_type": "code",
   "execution_count": 60,
   "id": "2ea9246c",
   "metadata": {},
   "outputs": [],
   "source": [
    "# Fit the model to training data\n",
    "mymodel = mymodel.fit(X=x_train,y=y_train)"
   ]
  },
  {
   "cell_type": "code",
   "execution_count": 61,
   "id": "d722f6f9",
   "metadata": {},
   "outputs": [
    {
     "data": {
      "text/plain": [
       "0.9011462639120907"
      ]
     },
     "execution_count": 61,
     "metadata": {},
     "output_type": "execute_result"
    }
   ],
   "source": [
    "# Check the model accuracy: R square\n",
    "rsq = mymodel.score(x_train,y_train)\n",
    "rsq"
   ]
  },
  {
   "cell_type": "markdown",
   "id": "cbbd64df",
   "metadata": {},
   "source": [
    "There is huge improvement in model accuracy after hyper parameter tuning."
   ]
  },
  {
   "cell_type": "code",
   "execution_count": 62,
   "id": "7986ae31",
   "metadata": {},
   "outputs": [],
   "source": [
    "#Cross validation\n",
    "myscore = cross_val_score(estimator=mymodel,X=x_train,y=y_train,scoring='r2',cv=4)"
   ]
  },
  {
   "cell_type": "code",
   "execution_count": 63,
   "id": "c0e5d6ea",
   "metadata": {},
   "outputs": [
    {
     "data": {
      "text/plain": [
       "0.8635779051228848"
      ]
     },
     "execution_count": 63,
     "metadata": {},
     "output_type": "execute_result"
    }
   ],
   "source": [
    "#Cross validation accuracy\n",
    "myscore.mean()"
   ]
  },
  {
   "cell_type": "markdown",
   "id": "3291f8bf",
   "metadata": {},
   "source": [
    "Also, we notice that model generalizability has improved after cross validation."
   ]
  },
  {
   "cell_type": "code",
   "execution_count": 64,
   "id": "5e3d04e8",
   "metadata": {},
   "outputs": [],
   "source": [
    "# Predicted Values\n",
    "predy = mymodel.predict(X=x_train)"
   ]
  },
  {
   "cell_type": "code",
   "execution_count": 65,
   "id": "8d860cab",
   "metadata": {},
   "outputs": [
    {
     "data": {
      "text/plain": [
       "2318.8776649884485"
      ]
     },
     "execution_count": 65,
     "metadata": {},
     "output_type": "execute_result"
    }
   ],
   "source": [
    "#Mean Square Error(MSE) on training data\n",
    "mse = mean_squared_error(y_true=y_train,y_pred=predy)\n",
    "mse"
   ]
  },
  {
   "cell_type": "code",
   "execution_count": 66,
   "id": "378d26a9",
   "metadata": {},
   "outputs": [
    {
     "data": {
      "text/plain": [
       "48.154726299590244"
      ]
     },
     "execution_count": 66,
     "metadata": {},
     "output_type": "execute_result"
    }
   ],
   "source": [
    "# Root Mean Square Errorm(RMSE) on training data\n",
    "rmse = mymath.sqrt(mse)\n",
    "rmse"
   ]
  },
  {
   "cell_type": "markdown",
   "id": "ec1beed4",
   "metadata": {},
   "source": [
    "## Apply the model on test data"
   ]
  },
  {
   "cell_type": "code",
   "execution_count": 68,
   "id": "c32fcf59",
   "metadata": {},
   "outputs": [
    {
     "data": {
      "text/plain": [
       "0.8168144096732399"
      ]
     },
     "execution_count": 68,
     "metadata": {},
     "output_type": "execute_result"
    }
   ],
   "source": [
    "#Accuracy for test data\n",
    "rsq_test = mymodel.score(X=x_test,y=y_test)\n",
    "rsq_test"
   ]
  },
  {
   "cell_type": "markdown",
   "id": "cdbdfe32",
   "metadata": {},
   "source": [
    "Model accuracy has reduced from 95.25% to 84.28% on test data."
   ]
  },
  {
   "cell_type": "code",
   "execution_count": 70,
   "id": "3b5298aa",
   "metadata": {},
   "outputs": [],
   "source": [
    "#Predict for test data\n",
    "predtest = mymodel.predict(x_test)"
   ]
  },
  {
   "cell_type": "code",
   "execution_count": 71,
   "id": "2aa23f64",
   "metadata": {},
   "outputs": [
    {
     "name": "stdout",
     "output_type": "stream",
     "text": [
      "6379.50350270783\n",
      "79.87179416231884\n"
     ]
    }
   ],
   "source": [
    "#Test MSE\n",
    "msetest = mean_squared_error(y_true=y_test,y_pred=predtest)\n",
    "print(msetest)\n",
    "#Test RMSE\n",
    "rmsetest = mymath.sqrt(msetest)\n",
    "print(rmsetest)"
   ]
  },
  {
   "cell_type": "markdown",
   "id": "0d4606d9",
   "metadata": {},
   "source": [
    "There is a very significant increase in RMSE value on test data as compared to train data."
   ]
  },
  {
   "cell_type": "markdown",
   "id": "c67e7c75",
   "metadata": {},
   "source": [
    "| |Support Vector Regressor | |\n",
    "| ----------- | ----------- |----------- |\n",
    "| | Train Data |Test Data |\n",
    "| R-sq |90.11|81.68|\n",
    "|MSE |2318.87 |6379.50|\n",
    "|RMSE |48.154 |79.87|\n"
   ]
  },
  {
   "cell_type": "markdown",
   "id": "6c3fe50c",
   "metadata": {},
   "source": [
    "## Compare the Two models"
   ]
  },
  {
   "cell_type": "markdown",
   "id": "896312c7",
   "metadata": {},
   "source": [
    "| |K Nearest Neighbour | |Support Vector Regressor | |\n",
    "| :-----------: | :-----------: |:-----------: |:-----------: |:-----------: |\n",
    "| | Train Data |Test Data |Train Data |Test Data |\n",
    "| R-sq |89.56|73.28|90.11|81.68|\n",
    "|MSE |2446.89 |9304.23|2318.87 |6379.50|\n",
    "|RMSE |49.46|96.45|48.154|79.87|\n"
   ]
  },
  {
   "cell_type": "markdown",
   "id": "84b27f52",
   "metadata": {},
   "source": [
    "We find that Support vector regressor is better model in terms of accuracy."
   ]
  },
  {
   "cell_type": "markdown",
   "id": "24a3ae36",
   "metadata": {},
   "source": [
    "## Compare all the models"
   ]
  },
  {
   "cell_type": "markdown",
   "id": "9f891a2e",
   "metadata": {},
   "source": [
    "| |Bagging Model |  |Random Forest| |CART| |Linear Regression| |KNN Regressor| |Support Vector Regressor|  |\n",
    "| :-----------: | :-----------: |:-----------: | :-----------: |:-----------:|:-----------: |:-----------: |:-----------:|:-----------:|:-----------:|:-----------:|:-----------:|:-----------:|\n",
    "| | Train Data |Test Data |Train Data |Test Data |Train Data |Test Data |Train Data |Test Data |Train Data |Test Data |Train Data |Test Data |\n",
    "| R<sup>2</sup> |95.08|86.59|95.26|82.19|95.40|82.90|90.5|71.56|89.56|73.28|90.11|81.68|\n",
    "|MSE |1152.79 |4669.69|1109.94|6200.91\t|1076.93\t|5956.08|2234.47|9903.62|2446.89|9304.23|2318.87|6379.50|\n",
    "|RMSE |33.95 |68.335|33.31 |78.75|32.87\t|77.17|47.27|99.51|49.46|96.45|48.154|79.87|"
   ]
  },
  {
   "cell_type": "markdown",
   "id": "3ca93f61",
   "metadata": {},
   "source": [
    "We compare all the models and find out that tree based models have higher accuracy and model generalizability. KNN regressor model has lowest accuracy and model generalizability. "
   ]
  },
  {
   "cell_type": "code",
   "execution_count": null,
   "id": "08807434",
   "metadata": {},
   "outputs": [],
   "source": []
  }
 ],
 "metadata": {
  "kernelspec": {
   "display_name": "Python 3 (ipykernel)",
   "language": "python",
   "name": "python3"
  },
  "language_info": {
   "codemirror_mode": {
    "name": "ipython",
    "version": 3
   },
   "file_extension": ".py",
   "mimetype": "text/x-python",
   "name": "python",
   "nbconvert_exporter": "python",
   "pygments_lexer": "ipython3",
   "version": "3.9.12"
  }
 },
 "nbformat": 4,
 "nbformat_minor": 5
}
